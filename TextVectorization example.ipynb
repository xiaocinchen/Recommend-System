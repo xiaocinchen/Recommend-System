{
 "cells": [
  {
   "cell_type": "code",
   "execution_count": 0,
   "metadata": {
    "colab": {},
    "colab_type": "code",
    "id": "dVeQNDaHtveP"
   },
   "outputs": [],
   "source": [
    "!pip install tf-nightly --quiet --upgrade"
   ]
  },
  {
   "cell_type": "code",
   "execution_count": 2,
   "metadata": {
    "colab": {
     "base_uri": "https://localhost:8080/",
     "height": 357
    },
    "colab_type": "code",
    "executionInfo": {
     "elapsed": 7,
     "status": "ok",
     "timestamp": 1583450879802,
     "user": {
      "displayName": "François Chollet",
      "photoUrl": "https://lh3.googleusercontent.com/a-/AOh14Gilu1YE4ZBO_8MPPC3y-vO9UoxtVZ2YYwDI6JgXyw=s64",
      "userId": "00604303903977286609"
     },
     "user_tz": 480
    },
    "id": "oenRsJ8a9BoG",
    "outputId": "25cb3704-24c1-4944-a3e8-9ca439cc6d55"
   },
   "outputs": [
    {
     "name": "stdout",
     "output_type": "stream",
     "text": [
      "Requirement already satisfied: tensorflow_datasets in /usr/local/lib/python3.6/dist-packages (2.1.0)\n",
      "Requirement already satisfied: promise in /usr/local/lib/python3.6/dist-packages (from tensorflow_datasets) (2.3)\n",
      "Requirement already satisfied: future in /usr/local/lib/python3.6/dist-packages (from tensorflow_datasets) (0.16.0)\n",
      "Requirement already satisfied: wrapt in /usr/local/lib/python3.6/dist-packages (from tensorflow_datasets) (1.12.0)\n",
      "Requirement already satisfied: dill in /usr/local/lib/python3.6/dist-packages (from tensorflow_datasets) (0.3.1.1)\n",
      "Requirement already satisfied: termcolor in /usr/local/lib/python3.6/dist-packages (from tensorflow_datasets) (1.1.0)\n",
      "Requirement already satisfied: absl-py in /usr/local/lib/python3.6/dist-packages (from tensorflow_datasets) (0.9.0)\n",
      "Requirement already satisfied: attrs>=18.1.0 in /usr/local/lib/python3.6/dist-packages (from tensorflow_datasets) (19.3.0)\n",
      "Requirement already satisfied: tensorflow-metadata in /usr/local/lib/python3.6/dist-packages (from tensorflow_datasets) (0.21.1)\n",
      "Requirement already satisfied: tqdm in /usr/local/lib/python3.6/dist-packages (from tensorflow_datasets) (4.28.1)\n",
      "Requirement already satisfied: requests>=2.19.0 in /usr/local/lib/python3.6/dist-packages (from tensorflow_datasets) (2.21.0)\n",
      "Requirement already satisfied: six in /usr/local/lib/python3.6/dist-packages (from tensorflow_datasets) (1.12.0)\n",
      "Requirement already satisfied: numpy in /usr/local/lib/python3.6/dist-packages (from tensorflow_datasets) (1.17.5)\n",
      "Requirement already satisfied: protobuf>=3.6.1 in /usr/local/lib/python3.6/dist-packages (from tensorflow_datasets) (3.10.0)\n",
      "Requirement already satisfied: googleapis-common-protos in /usr/local/lib/python3.6/dist-packages (from tensorflow-metadata->tensorflow_datasets) (1.51.0)\n",
      "Requirement already satisfied: chardet<3.1.0,>=3.0.2 in /usr/local/lib/python3.6/dist-packages (from requests>=2.19.0->tensorflow_datasets) (3.0.4)\n",
      "Requirement already satisfied: certifi>=2017.4.17 in /usr/local/lib/python3.6/dist-packages (from requests>=2.19.0->tensorflow_datasets) (2019.11.28)\n",
      "Requirement already satisfied: idna<2.9,>=2.5 in /usr/local/lib/python3.6/dist-packages (from requests>=2.19.0->tensorflow_datasets) (2.8)\n",
      "Requirement already satisfied: urllib3<1.25,>=1.21.1 in /usr/local/lib/python3.6/dist-packages (from requests>=2.19.0->tensorflow_datasets) (1.24.3)\n",
      "Requirement already satisfied: setuptools in /usr/local/lib/python3.6/dist-packages (from protobuf>=3.6.1->tensorflow_datasets) (45.2.0)\n"
     ]
    }
   ],
   "source": [
    "!pip install tensorflow_datasets"
   ]
  },
  {
   "cell_type": "markdown",
   "metadata": {
    "colab_type": "text",
    "id": "CcomMS4hKkTQ"
   },
   "source": [
    "# TextVectorization layer examples"
   ]
  },
  {
   "cell_type": "code",
   "execution_count": 3,
   "metadata": {
    "colab": {
     "base_uri": "https://localhost:8080/",
     "height": 34
    },
    "colab_type": "code",
    "executionInfo": {
     "elapsed": 32495,
     "status": "ok",
     "timestamp": 1583449936775,
     "user": {
      "displayName": "François Chollet",
      "photoUrl": "https://lh3.googleusercontent.com/a-/AOh14Gilu1YE4ZBO_8MPPC3y-vO9UoxtVZ2YYwDI6JgXyw=s64",
      "userId": "00604303903977286609"
     },
     "user_tz": 480
    },
    "id": "LczNeiKOtyDY",
    "outputId": "953a832f-40ba-4f3f-fab1-e5af38ba59bd"
   },
   "outputs": [
    {
     "data": {
      "text/plain": [
       "'2.2.0-dev20200305'"
      ]
     },
     "execution_count": 3,
     "metadata": {
      "tags": []
     },
     "output_type": "execute_result"
    }
   ],
   "source": [
    "import tensorflow as tf\n",
    "import numpy as np\n",
    "import tensorflow_datasets as tfds\n",
    "\n",
    "tf.__version__"
   ]
  },
  {
   "cell_type": "markdown",
   "metadata": {
    "colab_type": "text",
    "id": "Gf_SHV0lKh_s"
   },
   "source": [
    "## Loading data: IMDB movie review sentiment classification"
   ]
  },
  {
   "cell_type": "code",
   "execution_count": 4,
   "metadata": {
    "colab": {
     "base_uri": "https://localhost:8080/",
     "height": 68
    },
    "colab_type": "code",
    "executionInfo": {
     "elapsed": 39861,
     "status": "ok",
     "timestamp": 1583449944906,
     "user": {
      "displayName": "François Chollet",
      "photoUrl": "https://lh3.googleusercontent.com/a-/AOh14Gilu1YE4ZBO_8MPPC3y-vO9UoxtVZ2YYwDI6JgXyw=s64",
      "userId": "00604303903977286609"
     },
     "user_tz": 480
    },
    "id": "WI6k5BQ6uyJn",
    "outputId": "787966f6-c97c-4c66-89f5-bcde846ab12f"
   },
   "outputs": [
    {
     "name": "stderr",
     "output_type": "stream",
     "text": [
      "WARNING:absl:`in_memory` if deprecated and will be removed in a future version. Please use `ds = ds.cache()` instead.\n",
      "WARNING:absl:`in_memory` if deprecated and will be removed in a future version. Please use `ds = ds.cache()` instead.\n",
      "WARNING:absl:`in_memory` if deprecated and will be removed in a future version. Please use `ds = ds.cache()` instead.\n"
     ]
    }
   ],
   "source": [
    "# Load the IMDB reviews dataset using tfds. This is the raw data.\n",
    "imdb_reviews = tfds.load('imdb_reviews', in_memory=True)\n",
    "\n",
    "# The IMDB dataset contains a train split and a test split; we create a separate\n",
    "# handle for each.\n",
    "train_raw = imdb_reviews['train']\n",
    "test_raw = imdb_reviews['test']\n",
    "\n",
    "# Once we have our handles, we format the datasets in a Keras-fit compatible\n",
    "# format: a tuple of the form (text_data, label).\n",
    "def format_dataset(input_data):\n",
    "  return (input_data['text'], input_data['label'])\n",
    "\n",
    "train_dataset = train_raw.map(format_dataset)\n",
    "test_dataset = test_raw.map(format_dataset)\n",
    "\n",
    "# We also create a dataset with only the textual data in it. This will be used\n",
    "# to build our vocabulary later on.\n",
    "text_dataset = train_raw.map(lambda data: data['text'])"
   ]
  },
  {
   "cell_type": "code",
   "execution_count": 5,
   "metadata": {
    "colab": {
     "base_uri": "https://localhost:8080/",
     "height": 173
    },
    "colab_type": "code",
    "executionInfo": {
     "elapsed": 39390,
     "status": "ok",
     "timestamp": 1583449944907,
     "user": {
      "displayName": "François Chollet",
      "photoUrl": "https://lh3.googleusercontent.com/a-/AOh14Gilu1YE4ZBO_8MPPC3y-vO9UoxtVZ2YYwDI6JgXyw=s64",
      "userId": "00604303903977286609"
     },
     "user_tz": 480
    },
    "id": "9SHj1cBJu7PP",
    "outputId": "13d8a2ad-174f-4531-d1d4-86c898a6d521"
   },
   "outputs": [
    {
     "name": "stdout",
     "output_type": "stream",
     "text": [
      "0\n",
      "b\"This was an absolutely terrible movie. Don't be lured in by Christopher Walken or Michael Ironside. Both are great actors, but this must simply be their worst role in history. Even their great acting could not redeem this movie's ridiculous storyline. This movie is an early nineties US propaganda piece. The most pathetic scenes were those when the Columbian rebels were making their cases for revolutions. Maria Conchita Alonso appeared phony, and her pseudo-love affair with Walken was nothing but a pathetic emotional plug in a movie that was devoid of any real meaning. I am disappointed that there are movies like this, ruining actor's like Christopher Walken's good name. I could barely sit through it.\"\n",
      "0\n",
      "b'I have been known to fall asleep during films, but this is usually due to a combination of things including, really tired, being warm and comfortable on the sette and having just eaten a lot. However on this occasion I fell asleep because the film was rubbish. The plot development was constant. Constantly slow and boring. Things seemed to happen, but with no explanation of what was causing them or why. I admit, I may have missed part of the film, but i watched the majority of it and everything just seemed to happen of its own accord without any real concern for anything else. I cant recommend this film at all.'\n",
      "0\n",
      "b'Mann photographs the Alberta Rocky Mountains in a superb fashion, and Jimmy Stewart and Walter Brennan give enjoyable performances as they always seem to do. <br /><br />But come on Hollywood - a Mountie telling the people of Dawson City, Yukon to elect themselves a marshal (yes a marshal!) and to enforce the law themselves, then gunfighters battling it out on the streets for control of the town? <br /><br />Nothing even remotely resembling that happened on the Canadian side of the border during the Klondike gold rush. Mr. Mann and company appear to have mistaken Dawson City for Deadwood, the Canadian North for the American Wild West.<br /><br />Canadian viewers be prepared for a Reefer Madness type of enjoyable howl with this ludicrous plot, or, to shake your head in disgust.'\n",
      "1\n",
      "b'This is the kind of film for a snowy Sunday afternoon when the rest of the world can go ahead with its own business as you descend into a big arm-chair and mellow for a couple of hours. Wonderful performances from Cher and Nicolas Cage (as always) gently row the plot along. There are no rapids to cross, no dangerous waters, just a warm and witty paddle through New York life at its best. A family film in every sense and one that deserves the praise it received.'\n"
     ]
    }
   ],
   "source": [
    "# It's important to take a look at your raw data to ensure your normalization\n",
    "# and tokenization will work as expected. We can do that by taking a few\n",
    "# examples from the training set and looking at them.\n",
    "# This is one of the places where eager execution shines:\n",
    "# we can just evaluate these tensors using .numpy()\n",
    "# instead of needing to evaluate them in a Session/Graph context.\n",
    "for item in train_raw.take(4):\n",
    "  print(item['label'].numpy())\n",
    "  print(item['text'].numpy())"
   ]
  },
  {
   "cell_type": "markdown",
   "metadata": {
    "colab_type": "text",
    "id": "vNrRnC-RKr2I"
   },
   "source": [
    "## Preparing the data\n",
    "\n",
    "In particular, removing `<br />` tags."
   ]
  },
  {
   "cell_type": "code",
   "execution_count": 0,
   "metadata": {
    "colab": {},
    "colab_type": "code",
    "id": "RToU2ObJvNoj"
   },
   "outputs": [],
   "source": [
    "import string\n",
    "import re\n",
    "\n",
    "# Having looked at our data above, we see that the raw text contains HTML break\n",
    "# tags of the form '<br />'. These tags will not be removed by the default\n",
    "# standardizer (which doesn't strip HTML). Because of this, we will need to \n",
    "# create a custom standardization function.\n",
    "def custom_standardization(input_data):\n",
    "  lowercase = tf.strings.lower(input_data)\n",
    "  stripped_html = tf.strings.regex_replace(lowercase, '<br />', ' ')\n",
    "  return tf.strings.regex_replace(stripped_html,\n",
    "                                  '[%s]' % re.escape(string.punctuation),\n",
    "                                  '')"
   ]
  },
  {
   "cell_type": "markdown",
   "metadata": {
    "colab_type": "text",
    "id": "gVeSCgnAKzmQ"
   },
   "source": [
    "## Using the TextVectorization layer in an Embedding + Conv1D model"
   ]
  },
  {
   "cell_type": "code",
   "execution_count": 0,
   "metadata": {
    "colab": {},
    "colab_type": "code",
    "id": "E_PbRj4lvVed"
   },
   "outputs": [],
   "source": [
    "from tensorflow.keras.layers.experimental.preprocessing import TextVectorization\n",
    "\n",
    "# Model constants.\n",
    "max_features = 20000\n",
    "embedding_dim = 128\n",
    "\n",
    "# Now that we have our custom standardization, we can instantiate our text\n",
    "# vectorization layer. We are using this layer to normalize, split, and map\n",
    "# strings to integers, so we set our 'output_mode' to 'int'.\n",
    "# Note that we're using the default split function,\n",
    "# and the custom standardization defined above.\n",
    "# We also set an explicit maximum sequence length, since the CNNs later in our\n",
    "# model won't support ragged sequences.\n",
    "vectorize_layer = TextVectorization(\n",
    "    standardize=custom_standardization,\n",
    "    max_tokens=max_features,\n",
    "    output_mode='int',\n",
    "    output_sequence_length=500)\n",
    "\n",
    "# Now that the vocab layer has been created, call `adapt` on the text-only\n",
    "# dataset to create the vocabulary. You don't have to batch, but for very large\n",
    "# datasets this means you're not keeping spare copies of the dataset in memory.\n",
    "vectorize_layer.adapt(text_dataset.batch(64))\n",
    "\n",
    "# Next, let's build a model."
   ]
  },
  {
   "cell_type": "code",
   "execution_count": 0,
   "metadata": {
    "colab": {},
    "colab_type": "code",
    "id": "fAnI0YwfvXdG"
   },
   "outputs": [],
   "source": [
    "from tensorflow.keras import layers\n",
    "\n",
    "# A text input.\n",
    "text_input = tf.keras.Input(shape=(1,), dtype=tf.string, name='text')\n",
    "\n",
    "# The first layer in our model is the vectorization layer. After this layer,\n",
    "# we have a tensor of shape (batch_size, max_len) containing vocab indices.\n",
    "x = vectorize_layer(text_input)\n",
    "\n",
    "# Next, we add a layer to map those vocab indices into a space of dimensionality\n",
    "# 'embedding_dim'. Note that we're using max_features+1 here, since there's an\n",
    "# OOV token that gets added to the vocabulary in vectorize_layer.\n",
    "x = layers.Embedding(max_features + 1, embedding_dim)(x)\n",
    "x = layers.Dropout(0.5)(x)\n",
    "\n",
    "# Conv1D + global max pooling\n",
    "x = layers.Conv1D(128, 7, padding='valid', activation='relu', strides=3)(x)\n",
    "x = layers.Conv1D(128, 7, padding='valid', activation='relu', strides=3)(x)\n",
    "x = layers.GlobalMaxPooling1D()(x)\n",
    "\n",
    "# We add a vanilla hidden layer:\n",
    "x = layers.Dense(128, activation='relu')(x)\n",
    "x = layers.Dropout(0.5)(x)\n",
    "\n",
    "# We project onto a single unit output layer, and squash it with a sigmoid:\n",
    "predictions = layers.Dense(1, activation='sigmoid', name='predictions')(x)\n",
    "\n",
    "model = tf.keras.Model(text_input, predictions)\n",
    "\n",
    "# Compile the model with binary crossentropy loss and an adam optimizer.\n",
    "model.compile(\n",
    "    loss='binary_crossentropy', optimizer='adam', metrics=['accuracy'])"
   ]
  },
  {
   "cell_type": "code",
   "execution_count": 9,
   "metadata": {
    "colab": {
     "base_uri": "https://localhost:8080/",
     "height": 136
    },
    "colab_type": "code",
    "executionInfo": {
     "elapsed": 540658,
     "status": "ok",
     "timestamp": 1583450452654,
     "user": {
      "displayName": "François Chollet",
      "photoUrl": "https://lh3.googleusercontent.com/a-/AOh14Gilu1YE4ZBO_8MPPC3y-vO9UoxtVZ2YYwDI6JgXyw=s64",
      "userId": "00604303903977286609"
     },
     "user_tz": 480
    },
    "id": "ZXQKEh53v948",
    "outputId": "19397df9-9795-463b-d517-1031f6db740e"
   },
   "outputs": [
    {
     "name": "stdout",
     "output_type": "stream",
     "text": [
      "Epoch 1/3\n",
      "782/782 [==============================] - 168s 214ms/step - loss: 0.4781 - accuracy: 0.7310 - val_loss: 0.2901 - val_accuracy: 0.8788\n",
      "Epoch 2/3\n",
      "782/782 [==============================] - 167s 213ms/step - loss: 0.2163 - accuracy: 0.9145 - val_loss: 0.3194 - val_accuracy: 0.8792\n",
      "Epoch 3/3\n",
      "782/782 [==============================] - 167s 213ms/step - loss: 0.1115 - accuracy: 0.9615 - val_loss: 0.4127 - val_accuracy: 0.8738\n"
     ]
    },
    {
     "data": {
      "text/plain": [
       "<tensorflow.python.keras.callbacks.History at 0x7f33e5cee8d0>"
      ]
     },
     "execution_count": 9,
     "metadata": {
      "tags": []
     },
     "output_type": "execute_result"
    }
   ],
   "source": [
    "batch_size = 32\n",
    "epochs = 3\n",
    "\n",
    "# Fit the model using the train and test datasets.\n",
    "model.fit(\n",
    "    train_dataset.batch(batch_size),\n",
    "    validation_data=test_dataset.batch(batch_size),\n",
    "    epochs=epochs)"
   ]
  },
  {
   "cell_type": "markdown",
   "metadata": {
    "colab_type": "text",
    "id": "2qv2EmZsK-R2"
   },
   "source": [
    "## Using the TextVectorization layer in a bigram TF-IDF densely-connected model"
   ]
  },
  {
   "cell_type": "code",
   "execution_count": 0,
   "metadata": {
    "colab": {},
    "colab_type": "code",
    "id": "Pof6iFb5LNK5"
   },
   "outputs": [],
   "source": [
    "from tensorflow.keras.layers.experimental.preprocessing import TextVectorization\n",
    "\n",
    "# Model constants.\n",
    "max_features = 20000\n",
    "\n",
    "vectorize_layer = TextVectorization(\n",
    "    standardize=custom_standardization,\n",
    "    max_tokens=max_features,\n",
    "    ngrams=2,  # Unigrams and bigrams\n",
    "    output_mode='tf-idf')\n",
    "vectorize_layer.adapt(text_dataset.batch(64))"
   ]
  },
  {
   "cell_type": "code",
   "execution_count": 0,
   "metadata": {
    "colab": {},
    "colab_type": "code",
    "id": "pGMQg9RyMXIR"
   },
   "outputs": [],
   "source": [
    "from tensorflow.keras import layers\n",
    "\n",
    "# A text input.\n",
    "text_input = tf.keras.Input(shape=(1,), dtype=tf.string, name='text')\n",
    "\n",
    "# The first layer in our model is the vectorization layer. After this layer,\n",
    "# we have a tensor of shape (batch_size, features) containing TF-IDF features.\n",
    "x = vectorize_layer(text_input)\n",
    "\n",
    "# Dense hidden layers\n",
    "x = layers.Dense(128, activation='relu')(x)\n",
    "x = layers.Dropout(0.5)(x)\n",
    "x = layers.Dense(128, activation='relu')(x)\n",
    "x = layers.Dropout(0.5)(x)\n",
    "\n",
    "# We project onto a single unit output layer, and squash it with a sigmoid:\n",
    "predictions = layers.Dense(1, activation='sigmoid', name='predictions')(x)\n",
    "\n",
    "model = tf.keras.Model(text_input, predictions)\n",
    "\n",
    "# Compile the model with binary crossentropy loss and an adam optimizer.\n",
    "model.compile(\n",
    "    loss='binary_crossentropy', optimizer='adam', metrics=['accuracy'])"
   ]
  },
  {
   "cell_type": "code",
   "execution_count": 12,
   "metadata": {
    "colab": {
     "base_uri": "https://localhost:8080/",
     "height": 136
    },
    "colab_type": "code",
    "executionInfo": {
     "elapsed": 184278,
     "status": "ok",
     "timestamp": 1583452564444,
     "user": {
      "displayName": "François Chollet",
      "photoUrl": "https://lh3.googleusercontent.com/a-/AOh14Gilu1YE4ZBO_8MPPC3y-vO9UoxtVZ2YYwDI6JgXyw=s64",
      "userId": "00604303903977286609"
     },
     "user_tz": 480
    },
    "id": "K2UUQhHxLi2T",
    "outputId": "ffe475e7-cf2b-458b-cf56-4c396acfb075"
   },
   "outputs": [
    {
     "name": "stdout",
     "output_type": "stream",
     "text": [
      "Epoch 1/3\n",
      "782/782 [==============================] - 485s 621ms/step - loss: 0.6237 - accuracy: 0.7444 - val_loss: 0.2995 - val_accuracy: 0.8824\n",
      "Epoch 2/3\n",
      "782/782 [==============================] - 477s 610ms/step - loss: 0.3476 - accuracy: 0.8294 - val_loss: 0.2772 - val_accuracy: 0.8881\n",
      "Epoch 3/3\n",
      "782/782 [==============================] - 476s 609ms/step - loss: 0.2942 - accuracy: 0.8523 - val_loss: 0.2825 - val_accuracy: 0.8860\n"
     ]
    },
    {
     "data": {
      "text/plain": [
       "<tensorflow.python.keras.callbacks.History at 0x7f33e5da97f0>"
      ]
     },
     "execution_count": 12,
     "metadata": {
      "tags": []
     },
     "output_type": "execute_result"
    }
   ],
   "source": [
    "batch_size = 32\n",
    "epochs = 3\n",
    "\n",
    "# Fit the model using the train and test datasets.\n",
    "model.fit(\n",
    "    train_dataset.batch(batch_size),\n",
    "    validation_data=test_dataset.batch(batch_size),\n",
    "    epochs=epochs)"
   ]
  },
  {
   "cell_type": "code",
   "execution_count": 0,
   "metadata": {
    "colab": {},
    "colab_type": "code",
    "id": "h6GEqo07Clbm"
   },
   "outputs": [],
   "source": []
  }
 ],
 "metadata": {
  "colab": {
   "name": "TextVectorization example.ipynb",
   "provenance": []
  },
  "kernelspec": {
   "display_name": "Python 3",
   "language": "python",
   "name": "python3"
  },
  "language_info": {
   "codemirror_mode": {
    "name": "ipython",
    "version": 3
   },
   "file_extension": ".py",
   "mimetype": "text/x-python",
   "name": "python",
   "nbconvert_exporter": "python",
   "pygments_lexer": "ipython3",
   "version": "3.7.3"
  }
 },
 "nbformat": 4,
 "nbformat_minor": 1
}
